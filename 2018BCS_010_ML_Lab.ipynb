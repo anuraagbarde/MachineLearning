{
  "nbformat": 4,
  "nbformat_minor": 0,
  "metadata": {
    "colab": {
      "name": "2018BCS-011-ML-Lab",
      "provenance": []
    },
    "kernelspec": {
      "name": "python3",
      "display_name": "Python 3"
    }
  },
  "cells": [
    {
      "cell_type": "code",
      "metadata": {
        "id": "f56eCHZSd_iq"
      },
      "source": [
        "# Several helpful packages to load in \r\n",
        "import numpy as np;\r\n",
        "import matplotlib.pyplot as plt;\r\n",
        "import math;\r\n",
        "from random import randrange\r\n",
        "\r\n",
        "# Global variables\r\n",
        "n=20;             # No of points in Dataset\r\n",
        "xpoints=[];       # Independent \r\n",
        "ypoints=[];       # Dependent"
      ],
      "execution_count": 37,
      "outputs": []
    },
    {
      "cell_type": "code",
      "metadata": {
        "colab": {
          "base_uri": "https://localhost:8080/"
        },
        "id": "IA8Z560-0DSG",
        "outputId": "0934cd20-78cb-45fe-acfb-71e0139143ad"
      },
      "source": [
        "# Gaussian Noise Generation\r\n",
        "noise=np.random.normal(0,0.1,n);\r\n",
        "print(noise)"
      ],
      "execution_count": 38,
      "outputs": [
        {
          "output_type": "stream",
          "text": [
            "[ 0.08737982  0.07763637 -0.04595244 -0.07141639 -0.08063102 -0.10985491\n",
            " -0.04878786 -0.03989932 -0.00445959 -0.03385214  0.04647396 -0.07121561\n",
            "  0.18740734 -0.00568221 -0.06152081 -0.03038652  0.10155079  0.14154683\n",
            "  0.16677145 -0.08983778]\n"
          ],
          "name": "stdout"
        }
      ]
    },
    {
      "cell_type": "code",
      "metadata": {
        "id": "rmb9SgiX0WPN"
      },
      "source": [
        "# Generation of Random Dataset. y = sin(x) + noise\r\n",
        "for i in range(0,n):\r\n",
        "    x=randrange(0,21)*2*math.pi/n;\r\n",
        "    xpoints.append(x);\r\n",
        "    ypoints.append((math.sin(x)+noise[i]));\r\n",
        "\r\n",
        "xpoints = np.array(xpoints)\r\n",
        "ypoints = np.array(ypoints)\r\n",
        "\r\n",
        "xpoints = xpoints.reshape(20,1)\r\n",
        "ypoints = ypoints.reshape(20,1)"
      ],
      "execution_count": 39,
      "outputs": []
    },
    {
      "cell_type": "code",
      "metadata": {
        "colab": {
          "base_uri": "https://localhost:8080/"
        },
        "id": "Cc3XjJXs1bQS",
        "outputId": "297dffeb-91a6-4d43-9369-439b45e1a0ff"
      },
      "source": [
        "print('Randomly Generated Dataset with 20 points')\r\n",
        "print('X | Y');\r\n",
        "for i in range(0,n):\r\n",
        "  print(xpoints[i] , ' | ' , ypoints[i]);"
      ],
      "execution_count": 40,
      "outputs": [
        {
          "output_type": "stream",
          "text": [
            "Randomly Generated Dataset with 20 points\n",
            "X | Y\n",
            "[3.45575192]  |  [-0.22163717]\n",
            "[5.65486678]  |  [-0.51014888]\n",
            "[6.28318531]  |  [-0.04595244]\n",
            "[3.14159265]  |  [-0.07141639]\n",
            "[5.65486678]  |  [-0.66841627]\n",
            "[4.39822972]  |  [-1.06091143]\n",
            "[1.57079633]  |  [0.95121214]\n",
            "[0.9424778]  |  [0.76911767]\n",
            "[1.88495559]  |  [0.94659693]\n",
            "[0.62831853]  |  [0.55393311]\n",
            "[4.71238898]  |  [-0.95352604]\n",
            "[1.25663706]  |  [0.87984091]\n",
            "[0.31415927]  |  [0.49642433]\n",
            "[1.57079633]  |  [0.99431779]\n",
            "[2.82743339]  |  [0.24749618]\n",
            "[0.]  |  [-0.03038652]\n",
            "[5.96902604]  |  [-0.2074662]\n",
            "[0.31415927]  |  [0.45056382]\n",
            "[4.71238898]  |  [-0.83322855]\n",
            "[1.88495559]  |  [0.86121873]\n"
          ],
          "name": "stdout"
        }
      ]
    },
    {
      "cell_type": "code",
      "metadata": {
        "colab": {
          "base_uri": "https://localhost:8080/",
          "height": 295
        },
        "id": "odIKlMiz2jiM",
        "outputId": "2171ab0d-406b-49d6-9a90-a8c3bcd93347"
      },
      "source": [
        "# Plot of Dataset\r\n",
        "plt.plot(xpoints,ypoints,'bo');\r\n",
        "plt.xlabel('x 0 to 2*pi');\r\n",
        "plt.ylabel('y = sin(x) + noise');\r\n",
        "plt.title('dataset');\r\n",
        "plt.show()"
      ],
      "execution_count": 41,
      "outputs": [
        {
          "output_type": "display_data",
          "data": {
            "image/png": "[encoded data removed]",
            "text/plain": [
              "<Figure size 432x288 with 1 Axes>"
            ]
          },
          "metadata": {
            "tags": [],
            "needs_background": "light"
          }
        }
      ]
    },
    {
      "cell_type": "markdown",
      "metadata": {
        "id": "9n3bQPARzVgk"
      },
      "source": [
        "### Testing Dataset"
      ]
    },
    {
      "cell_type": "code",
      "metadata": {
        "id": "AwOmmOAszU6u"
      },
      "source": [
        "# Variables\r\n",
        "x_test = []\r\n",
        "y_test = []\r\n",
        "\r\n",
        "# Generation of Random Dataset. y = sin(x) \r\n",
        "for i in range(0,n):\r\n",
        "    x=randrange(0,n+1)*2*math.pi/n;\r\n",
        "    x_test.append(x);\r\n",
        "    y_test.append(math.sin(x));"
      ],
      "execution_count": 42,
      "outputs": []
    },
    {
      "cell_type": "code",
      "metadata": {
        "colab": {
          "base_uri": "https://localhost:8080/",
          "height": 295
        },
        "id": "Xzv4c5Pn0LvY",
        "outputId": "75185b81-d804-4f4e-c96f-81c4ad90be7b"
      },
      "source": [
        "# Plot of Testing Dataset\r\n",
        "plt.plot(x_test,y_test,'bo');\r\n",
        "plt.xlabel('x 0 to 2*pi');\r\n",
        "plt.ylabel('y = sin(x)');\r\n",
        "plt.title('Testing dataset');\r\n",
        "plt.show()"
      ],
      "execution_count": 43,
      "outputs": [
        {
          "output_type": "display_data",
          "data": {
            "image/png": "[encoded data removed]",
            "text/plain": [
              "<Figure size 432x288 with 1 Axes>"
            ]
          },
          "metadata": {
            "tags": [],
            "needs_background": "light"
          }
        }
      ]
    },
    {
      "cell_type": "markdown",
      "metadata": {
        "id": "JblqPvmb0cDz"
      },
      "source": [
        "# Simple Linear Regression"
      ]
    },
    {
      "cell_type": "code",
      "metadata": {
        "colab": {
          "base_uri": "https://localhost:8080/"
        },
        "id": "qOmU4Gz60j5a",
        "outputId": "24581b2f-99fb-4879-9b43-83cdcf98d518"
      },
      "source": [
        "# Fitting Simple Linear Regression to the Training Dataset\r\n",
        "from sklearn.linear_model import LinearRegression\r\n",
        "regressor = LinearRegression()\r\n",
        "regressor.fit(xpoints, ypoints)"
      ],
      "execution_count": 44,
      "outputs": [
        {
          "output_type": "execute_result",
          "data": {
            "text/plain": [
              "LinearRegression(copy_X=True, fit_intercept=True, n_jobs=None, normalize=False)"
            ]
          },
          "metadata": {
            "tags": []
          },
          "execution_count": 44
        }
      ]
    },
    {
      "cell_type": "code",
      "metadata": {
        "colab": {
          "base_uri": "https://localhost:8080/",
          "height": 295
        },
        "id": "PQ6NAxJAXZkS",
        "outputId": "38fcd3ac-c9ac-405e-ed3c-d7b82a880764"
      },
      "source": [
        "slope = regressor.coef_[0][0]\r\n",
        "intercept = regressor.intercept_[0]\r\n",
        "# print(slope)\r\n",
        "# print(intercept)\r\n",
        "plt.plot(x_test,y_test,'bo');\r\n",
        "plt.xlabel('x 0 to 2*pi');\r\n",
        "plt.ylabel('y = sin(x)');\r\n",
        "plt.title('Testing dataset');\r\n",
        "x = np.linspace(0,7,20)\r\n",
        "# print(x)\r\n",
        "y = slope*x+intercept\r\n",
        "plt.plot(x, y, '-r', label='y')\r\n",
        "plt.title('Graph of y=slope*x+intercept')\r\n",
        "plt.xlabel('x', color='#1C2833')\r\n",
        "plt.ylabel('y', color='#1C2833')\r\n",
        "plt.legend(loc='upper left')\r\n",
        "plt.grid()\r\n",
        "plt.show()\r\n"
      ],
      "execution_count": 45,
      "outputs": [
        {
          "output_type": "display_data",
          "data": {
            "image/png": "[encoded data removed]",
            "text/plain": [
              "<Figure size 432x288 with 1 Axes>"
            ]
          },
          "metadata": {
            "tags": [],
            "needs_background": "light"
          }
        }
      ]
    }
  ]
}