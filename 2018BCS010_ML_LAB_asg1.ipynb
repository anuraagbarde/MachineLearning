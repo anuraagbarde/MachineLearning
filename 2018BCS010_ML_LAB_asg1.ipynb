{
  "nbformat": 4,
  "nbformat_minor": 0,
  "metadata": {
    "colab": {
      "name": "2018BCS010_ML_LAB_asg1",
      "provenance": []
    },
    "kernelspec": {
      "name": "python3",
      "display_name": "Python 3"
    }
  },
  "cells": [
    {
      "cell_type": "code",
      "metadata": {
        "id": "56oHGUpdLFM0"
      },
      "source": [
        "# Several helpful packages to load in \r\n",
        "import numpy as np;\r\n",
        "import matplotlib.pyplot as plt;\r\n",
        "import math;\r\n",
        "from random import randrange\r\n",
        "\r\n",
        "# Global variables\r\n",
        "n=20;             # No of points in Dataset\r\n",
        "xpoints=[];       # Independent \r\n",
        "ypoints=[];       # Dependent"
      ],
      "execution_count": null,
      "outputs": []
    },
    {
      "cell_type": "code",
      "metadata": {
        "id": "Ug-HszJVLPEB"
      },
      "source": [
        "# Gaussian Noise Generation\r\n",
        "noise=np.random.normal(0,0.1,n);\r\n",
        "print(noise)"
      ],
      "execution_count": null,
      "outputs": []
    },
    {
      "cell_type": "code",
      "metadata": {
        "id": "S_1ut9dLLRKU"
      },
      "source": [
        "# Generation of Random Dataset. y = sin(x) + noise\r\n",
        "for i in range(0,n):\r\n",
        "    x=randrange(0,21)*2*math.pi/n;\r\n",
        "    xpoints.append(x);\r\n",
        "    ypoints.append((math.sin(x)+noise[i]));\r\n",
        "\r\n",
        "xpoints = np.array(xpoints)\r\n",
        "ypoints = np.array(ypoints)\r\n",
        "\r\n",
        "xpoints = xpoints.reshape(20,1)\r\n",
        "ypoints = ypoints.reshape(20,1)"
      ],
      "execution_count": null,
      "outputs": []
    },
    {
      "cell_type": "code",
      "metadata": {
        "id": "bOW3uVbeLU2i"
      },
      "source": [
        "print('Randomly Generated Dataset with 20 points')\r\n",
        "print('X | Y');\r\n",
        "for i in range(0,n):\r\n",
        "  print(xpoints[i] , ' | ' , ypoints[i]);"
      ],
      "execution_count": null,
      "outputs": []
    },
    {
      "cell_type": "code",
      "metadata": {
        "id": "waOtapt_LW4G"
      },
      "source": [
        "# Plot of Dataset\r\n",
        "plt.plot(xpoints,ypoints,'bo');\r\n",
        "plt.xlabel('x 0 to 2*pi');\r\n",
        "plt.ylabel('y = sin(x) + noise');\r\n",
        "plt.title('dataset');\r\n",
        "plt.show()"
      ],
      "execution_count": null,
      "outputs": []
    }
  ]
}