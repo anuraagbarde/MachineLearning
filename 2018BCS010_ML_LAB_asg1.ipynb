{
  "nbformat": 4,
  "nbformat_minor": 0,
  "metadata": {
    "colab": {
      "name": "2018BCS010_ML_LAB_asg1",
      "provenance": [],
      "include_colab_link": true
    },
    "kernelspec": {
      "name": "python3",
      "display_name": "Python 3"
    }
  },
  "cells": [
    {
      "cell_type": "markdown",
      "metadata": {
        "id": "view-in-github",
        "colab_type": "text"
      },
      "source": [
        "<a href=\"https://colab.research.google.com/github/anuraagbarde/MachineLearning/blob/main/2018BCS010_ML_LAB_asg1.ipynb\" target=\"_parent\"><img src=\"https://colab.research.google.com/assets/colab-badge.svg\" alt=\"Open In Colab\"/></a>"
      ]
    },
    {
      "cell_type": "code",
      "metadata": {
        "id": "56oHGUpdLFM0"
      },
      "source": [
        "import numpy as np;\r\n",
        "import matplotlib.pyplot as plt;\r\n",
        "import math;\r\n",
        "from random import randrange\r\n",
        "\r\n",
        "# Global variables\r\n",
        "n=20;                 # No. of points for the Dataset\r\n",
        "xTrainData=np.zeros(20);       # Independent points \r\n",
        "yTrainData=np.zeros(20);       # Dependent points"
      ],
      "execution_count": 36,
      "outputs": []
    },
    {
      "cell_type": "code",
      "metadata": {
        "id": "Ug-HszJVLPEB",
        "colab": {
          "base_uri": "https://localhost:8080/"
        },
        "outputId": "3ad34949-5dc4-44fe-a468-73264cff2244"
      },
      "source": [
        "# Normal distribution Noise Generation\r\n",
        "noise=np.random.normal(0,0.1,n); #(mean, variance, no. of points)\r\n",
        "print(noise)"
      ],
      "execution_count": 37,
      "outputs": [
        {
          "output_type": "stream",
          "text": [
            "[ 0.12855918 -0.13504188 -0.07116888 -0.16850089 -0.0003046   0.06346396\n",
            "  0.00175227  0.07899361 -0.10534471  0.09969287 -0.00564622  0.04762006\n",
            " -0.06211362  0.02656151  0.12503415 -0.02872251  0.08962522 -0.07360432\n",
            "  0.08102915 -0.05716984]\n"
          ],
          "name": "stdout"
        }
      ]
    },
    {
      "cell_type": "code",
      "metadata": {
        "id": "S_1ut9dLLRKU"
      },
      "source": [
        "# Generation of Random Dataset as training => y = sin(x) + noise\r\n",
        "for i in range(0,n):\r\n",
        "    temp=randrange(0,n+1,1)*2*math.pi/n\r\n",
        "    xTrainData[i] = temp\r\n",
        "    yTrainData[i] = math.sin(temp)+noise[i]\r\n"
      ],
      "execution_count": 38,
      "outputs": []
    },
    {
      "cell_type": "code",
      "metadata": {
        "id": "bOW3uVbeLU2i",
        "colab": {
          "base_uri": "https://localhost:8080/"
        },
        "outputId": "d0b5bb52-d11c-411a-86de-8842adf9b5c0"
      },
      "source": [
        "print('Randomly Generated Dataset with 20 points')\r\n",
        "print('X | Y');\r\n",
        "for i in range(0,n):\r\n",
        "  print(xTrainData[i] , ' | ' , yTrainData[i]);"
      ],
      "execution_count": 40,
      "outputs": [
        {
          "output_type": "stream",
          "text": [
            "Randomly Generated Dataset with 20 points\n",
            "X | Y\n",
            "5.026548245743669  |  -0.8224973320462439\n",
            "0.0  |  -0.13504188132826542\n",
            "6.283185307179586  |  -0.07116887984799443\n",
            "0.0  |  -0.16850088665124907\n",
            "5.026548245743669  |  -0.9513611168824447\n",
            "3.7699111843077517  |  -0.5243212918637403\n",
            "3.455751918948772  |  -0.3072647225811097\n",
            "1.2566370614359172  |  1.0300501217698008\n",
            "6.283185307179586  |  -0.10534471240916851\n",
            "3.141592653589793  |  0.09969287347029825\n",
            "0.3141592653589793  |  0.3033707763452783\n",
            "0.6283185307179586  |  0.6354053082200745\n",
            "5.026548245743669  |  -1.0131701322425202\n",
            "2.199114857512855  |  0.835578506284581\n",
            "6.283185307179586  |  0.12503415420310576\n",
            "3.7699111843077517  |  -0.616507759343064\n",
            "4.71238898038469  |  -0.9103747838402826\n",
            "0.3141592653589793  |  0.23541267142032646\n",
            "3.141592653589793  |  0.08102914600240807\n",
            "6.283185307179586  |  -0.05716983578691198\n"
          ],
          "name": "stdout"
        }
      ]
    },
    {
      "cell_type": "code",
      "metadata": {
        "id": "waOtapt_LW4G",
        "colab": {
          "base_uri": "https://localhost:8080/",
          "height": 295
        },
        "outputId": "c93ddb46-6563-46f2-bc8b-8e06c0c2fd9c"
      },
      "source": [
        "# Plot of Dataset\r\n",
        "plt.plot(xTrainData,yTrainData,'bo');\r\n",
        "plt.xlabel('x 0 to 2*pi');\r\n",
        "plt.ylabel('y = sin(x) + noise');\r\n",
        "plt.title('Training dataset');\r\n",
        "plt.show()"
      ],
      "execution_count": 43,
      "outputs": [
        {
          "output_type": "display_data",
          "data": {
            "image/png": "[encoded data removed]",
            "text/plain": [
              "<Figure size 432x288 with 1 Axes>"
            ]
          },
          "metadata": {
            "tags": [],
            "needs_background": "light"
          }
        }
      ]
    }
  ]
}