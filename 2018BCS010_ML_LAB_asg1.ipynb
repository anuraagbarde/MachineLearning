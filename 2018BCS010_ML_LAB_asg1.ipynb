{
  "nbformat": 4,
  "nbformat_minor": 0,
  "metadata": {
    "colab": {
      "name": "2018BCS010_ML_LAB_asg1",
      "provenance": [],
      "include_colab_link": true
    },
    "kernelspec": {
      "name": "python3",
      "display_name": "Python 3"
    }
  },
  "cells": [
    {
      "cell_type": "markdown",
      "metadata": {
        "id": "view-in-github",
        "colab_type": "text"
      },
      "source": [
        "<a href=\"https://colab.research.google.com/github/anuraagbarde/MachineLearning/blob/main/2018BCS010_ML_LAB_asg1.ipynb\" target=\"_parent\"><img src=\"https://colab.research.google.com/assets/colab-badge.svg\" alt=\"Open In Colab\"/></a>"
      ]
    },
    {
      "cell_type": "markdown",
      "metadata": {
        "id": "rgG_KV-mn0sG"
      },
      "source": [
        "# Import and Global Init"
      ]
    },
    {
      "cell_type": "code",
      "metadata": {
        "id": "56oHGUpdLFM0"
      },
      "source": [
        "import numpy as np;\r\n",
        "import matplotlib.pyplot as plt;\r\n",
        "import math;\r\n",
        "from random import randrange\r\n",
        "\r\n",
        "# Global variables\r\n",
        "n=20;                 # No. of points for the Dataset\r\n",
        "xTrainData=np.zeros(n);       # Independent points \r\n",
        "yTrainData=np.zeros(n);       # Dependent points"
      ],
      "execution_count": 132,
      "outputs": []
    },
    {
      "cell_type": "markdown",
      "metadata": {
        "id": "c_JBl5ysnsEq"
      },
      "source": [
        "# Create Training Dataset"
      ]
    },
    {
      "cell_type": "code",
      "metadata": {
        "id": "Ug-HszJVLPEB",
        "colab": {
          "base_uri": "https://localhost:8080/",
          "height": 281
        },
        "outputId": "d57793ce-8282-414f-e20e-26594ba65691"
      },
      "source": [
        "# Normal distribution Noise Generation\r\n",
        "noise=np.random.normal(0,0.15,n); #(mean, variance, no. of points)\r\n",
        "xNoise = np.arange(1,n+1,1)\r\n",
        "\r\n",
        "# Plot of Noise\r\n",
        "plt.plot(xNoise,noise,'bo');\r\n",
        "plt.xlabel('');\r\n",
        "plt.ylabel('Noise');\r\n",
        "plt.title('Noise');\r\n",
        "plt.grid()\r\n",
        "plt.show()"
      ],
      "execution_count": 133,
      "outputs": [
        {
          "output_type": "display_data",
          "data": {
            "image/png": "[encoded data removed]",
            "text/plain": [
              "<Figure size 432x288 with 1 Axes>"
            ]
          },
          "metadata": {
            "tags": [],
            "needs_background": "light"
          }
        }
      ]
    },
    {
      "cell_type": "code",
      "metadata": {
        "id": "S_1ut9dLLRKU",
        "colab": {
          "base_uri": "https://localhost:8080/"
        },
        "outputId": "b5fd9b49-8550-4639-d2d4-fb63ea0838ec"
      },
      "source": [
        "# Generation of Random Dataset as training => y = sin(x) + noise\r\n",
        "for i in range(0,n):\r\n",
        "    temp=randrange(0,n+1,1)*2*math.pi/n\r\n",
        "    xTrainData[i] = temp\r\n",
        "    yTrainData[i] = math.sin(temp)+noise[i]\r\n",
        "\r\n",
        "xTrainData = xTrainData.reshape(n,1)\r\n",
        "yTrainData = yTrainData.reshape(n,1)\r\n",
        "\r\n",
        "print('Randomly Generated Train Dataset with n points')\r\n",
        "# print('X | Y');\r\n",
        "# for i in range(0,n):\r\n",
        "#   print(xTrainData[i] , ' | ' , yTrainData[i]);\r\n"
      ],
      "execution_count": 134,
      "outputs": [
        {
          "output_type": "stream",
          "text": [
            "Randomly Generated Train Dataset with n points\n"
          ],
          "name": "stdout"
        }
      ]
    },
    {
      "cell_type": "code",
      "metadata": {
        "id": "waOtapt_LW4G",
        "colab": {
          "base_uri": "https://localhost:8080/",
          "height": 295
        },
        "outputId": "15a49aae-dd6c-4f71-a956-8bb55804b4a2"
      },
      "source": [
        "# Plot of Training Dataset\r\n",
        "plt.plot(xTrainData,yTrainData,'bo');\r\n",
        "plt.xlabel('x = [0,2π]');\r\n",
        "plt.ylabel('y = sin(x) + noise');\r\n",
        "plt.title('Training dataset');\r\n",
        "plt.grid()\r\n",
        "plt.show()"
      ],
      "execution_count": 135,
      "outputs": [
        {
          "output_type": "display_data",
          "data": {
            "image/png": "[encoded data removed]",
            "text/plain": [
              "<Figure size 432x288 with 1 Axes>"
            ]
          },
          "metadata": {
            "tags": [],
            "needs_background": "light"
          }
        }
      ]
    },
    {
      "cell_type": "markdown",
      "metadata": {
        "id": "MdVE3TYdnSUb"
      },
      "source": [
        "# Create Testing Dataset"
      ]
    },
    {
      "cell_type": "code",
      "metadata": {
        "colab": {
          "base_uri": "https://localhost:8080/"
        },
        "id": "NT-71O6znb9P",
        "outputId": "04e5aa97-7ff4-414d-f63c-38cbd0e7958f"
      },
      "source": [
        "# Generation of Random Dataset as training => y = sin(x)\r\n",
        "\r\n",
        "xTestData=np.zeros(n);       # Independent points \r\n",
        "yTestData=np.zeros(n);       # Dependent points\r\n",
        "\r\n",
        "for i in range(0,n):\r\n",
        "    temp=randrange(0,n+1,1)*2*math.pi/n\r\n",
        "    xTestData[i] = temp\r\n",
        "    yTestData[i] = math.sin(temp)\r\n",
        "\r\n",
        "xTestData = xTestData.reshape(n,1)\r\n",
        "yTestData = yTestData.reshape(n,1)\r\n",
        "\r\n",
        "print('Randomly Generated Test Dataset with 20 points')\r\n",
        "# print('X | Y');\r\n",
        "# for i in range(0,n):\r\n",
        "#   print(xTestData[i] , ' | ' , yTestData[i]);\r\n"
      ],
      "execution_count": 136,
      "outputs": [
        {
          "output_type": "stream",
          "text": [
            "Randomly Generated Test Dataset with 20 points\n"
          ],
          "name": "stdout"
        }
      ]
    },
    {
      "cell_type": "code",
      "metadata": {
        "id": "nz3Dkg4w2bJS",
        "outputId": "fd052c80-8872-4aa9-f117-cdc5d2d92a42",
        "colab": {
          "base_uri": "https://localhost:8080/",
          "height": 295
        }
      },
      "source": [
        "# Plot of Test Dataset\r\n",
        "plt.plot(xTestData,yTestData,'bo');\r\n",
        "plt.xlabel('x = [0,2π]');\r\n",
        "plt.ylabel('y = sin(x)');\r\n",
        "plt.title('Test dataset');\r\n",
        "plt.grid()\r\n",
        "plt.show()"
      ],
      "execution_count": 137,
      "outputs": [
        {
          "output_type": "display_data",
          "data": {
            "image/png": "[encoded data removed]",
            "text/plain": [
              "<Figure size 432x288 with 1 Axes>"
            ]
          },
          "metadata": {
            "tags": [],
            "needs_background": "light"
          }
        }
      ]
    },
    {
      "cell_type": "markdown",
      "metadata": {
        "id": "QKjnMcpKpHnY"
      },
      "source": [
        "# Prediction"
      ]
    },
    {
      "cell_type": "markdown",
      "metadata": {
        "id": "4VHUVTY9pLxn"
      },
      "source": [
        "## Direct linear regression"
      ]
    },
    {
      "cell_type": "code",
      "metadata": {
        "colab": {
          "base_uri": "https://localhost:8080/"
        },
        "id": "B8VAub-_pRK-",
        "outputId": "6e9f0e94-b00d-4525-ddd4-e29c1a4da42c"
      },
      "source": [
        "# Fitting Direct Simple Linear Regression to the Training Dataset\r\n",
        "from sklearn.linear_model import LinearRegression\r\n",
        "regressor = LinearRegression()\r\n",
        "regressor.fit(xTrainData, yTrainData)"
      ],
      "execution_count": 138,
      "outputs": [
        {
          "output_type": "execute_result",
          "data": {
            "text/plain": [
              "LinearRegression(copy_X=True, fit_intercept=True, n_jobs=None, normalize=False)"
            ]
          },
          "metadata": {
            "tags": []
          },
          "execution_count": 138
        }
      ]
    },
    {
      "cell_type": "code",
      "metadata": {
        "colab": {
          "base_uri": "https://localhost:8080/"
        },
        "id": "xbonGvvJyGql",
        "outputId": "03f0e68a-c93c-4f5f-bf4c-464a1cc25ffb"
      },
      "source": [
        "yPredictData = regressor.predict(xTestData)\r\n",
        "\r\n",
        "from sklearn.metrics import mean_squared_error\r\n",
        "\r\n",
        "mse = mean_squared_error(yTestData, yPredictData, squared=True)\r\n",
        "print('mse =',mse)"
      ],
      "execution_count": 139,
      "outputs": [
        {
          "output_type": "stream",
          "text": [
            "mse = 0.23854768810190938\n"
          ],
          "name": "stdout"
        }
      ]
    },
    {
      "cell_type": "code",
      "metadata": {
        "colab": {
          "base_uri": "https://localhost:8080/",
          "height": 421
        },
        "id": "4DVG6-3-qXKA",
        "outputId": "5c348aec-7c79-445d-a706-efe745dcf171"
      },
      "source": [
        "slope = regressor.coef_[0][0]\r\n",
        "intercept = regressor.intercept_[0]\r\n",
        "# print(slope)\r\n",
        "# print(intercept)\r\n",
        "\r\n",
        "\r\n",
        "plt.figure(figsize=(10.67, 6))\r\n",
        "plt.scatter(xTrainData,yTrainData,color = 'b' , label='TrainData');\r\n",
        "plt.scatter(xTestData,yTestData,color = 'y', label='TestData');\r\n",
        "plt.scatter(xTestData,yPredictData,color = 'r', label='PredictData');\r\n",
        "\r\n",
        "xPredictionLine = np.linspace(0,7,n)\r\n",
        "yPredictionLine = slope*x+intercept\r\n",
        "\r\n",
        "plt.plot(xPredictionLine, yPredictionLine, '-g', label='y=slope*x+itrcpt')\r\n",
        "\r\n",
        "\r\n",
        "plt.title('Training dataset vs Predicted model line');\r\n",
        "plt.xlabel('x');\r\n",
        "plt.ylabel('y');\r\n",
        "plt.legend(loc='best')\r\n",
        "plt.grid()\r\n",
        "plt.show()\r\n",
        "\r\n",
        "print('mse =',mse)"
      ],
      "execution_count": 140,
      "outputs": [
        {
          "output_type": "display_data",
          "data": {
            "image/png": "[encoded data removed]",
            "text/plain": [
              "<Figure size 768.24x432 with 1 Axes>"
            ]
          },
          "metadata": {
            "tags": [],
            "needs_background": "light"
          }
        },
        {
          "output_type": "stream",
          "text": [
            "mse = 0.23854768810190938\n"
          ],
          "name": "stdout"
        }
      ]
    }
  ]
}