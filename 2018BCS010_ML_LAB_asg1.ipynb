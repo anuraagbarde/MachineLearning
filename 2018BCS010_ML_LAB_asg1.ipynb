{
  "nbformat": 4,
  "nbformat_minor": 0,
  "metadata": {
    "colab": {
      "name": "2018BCS010_ML_LAB_asg1",
      "provenance": [],
      "include_colab_link": true
    },
    "kernelspec": {
      "name": "python3",
      "display_name": "Python 3"
    }
  },
  "cells": [
    {
      "cell_type": "markdown",
      "metadata": {
        "id": "view-in-github",
        "colab_type": "text"
      },
      "source": [
        "<a href=\"https://colab.research.google.com/github/anuraagbarde/MachineLearning/blob/main/2018BCS010_ML_LAB_asg1.ipynb\" target=\"_parent\"><img src=\"https://colab.research.google.com/assets/colab-badge.svg\" alt=\"Open In Colab\"/></a>"
      ]
    },
    {
      "cell_type": "markdown",
      "metadata": {
        "id": "rgG_KV-mn0sG"
      },
      "source": [
        "# Import and Global Init"
      ]
    },
    {
      "cell_type": "code",
      "metadata": {
        "id": "56oHGUpdLFM0"
      },
      "source": [
        "import numpy as np;\r\n",
        "import matplotlib.pyplot as plt;\r\n",
        "import math;\r\n",
        "from random import randrange\r\n",
        "\r\n",
        "# Global variables\r\n",
        "n=20;                 # No. of points for the Dataset\r\n",
        "xTrainData=np.zeros(n);       # Independent points \r\n",
        "yTrainData=np.zeros(n);       # Dependent points"
      ],
      "execution_count": 109,
      "outputs": []
    },
    {
      "cell_type": "markdown",
      "metadata": {
        "id": "c_JBl5ysnsEq"
      },
      "source": [
        "# Create Training Dataset"
      ]
    },
    {
      "cell_type": "code",
      "metadata": {
        "id": "Ug-HszJVLPEB",
        "colab": {
          "base_uri": "https://localhost:8080/"
        },
        "outputId": "48c2e251-0b0a-43fa-c648-e7801cda79c7"
      },
      "source": [
        "# Normal distribution Noise Generation\r\n",
        "noise=np.random.normal(0,0.15,n); #(mean, variance, no. of points)\r\n",
        "print(noise)"
      ],
      "execution_count": 110,
      "outputs": [
        {
          "output_type": "stream",
          "text": [
            "[ 0.26073931 -0.0622438   0.10691187  0.13128226  0.2091561   0.21636646\n",
            "  0.3211207  -0.15008236  0.11520181  0.06725873 -0.25205954  0.20727581\n",
            " -0.01405055 -0.11195349  0.03478477 -0.09343585  0.0244702  -0.07337399\n",
            "  0.04523948  0.01833597]\n"
          ],
          "name": "stdout"
        }
      ]
    },
    {
      "cell_type": "code",
      "metadata": {
        "id": "S_1ut9dLLRKU",
        "colab": {
          "base_uri": "https://localhost:8080/"
        },
        "outputId": "d87b9cd9-3a6c-4cea-b96c-47ceab2445eb"
      },
      "source": [
        "# Generation of Random Dataset as training => y = sin(x) + noise\r\n",
        "for i in range(0,n):\r\n",
        "    temp=randrange(0,n+1,1)*2*math.pi/n\r\n",
        "    xTrainData[i] = temp\r\n",
        "    yTrainData[i] = math.sin(temp)+noise[i]\r\n",
        "\r\n",
        "xTrainData = xTrainData.reshape(n,1)\r\n",
        "yTrainData = yTrainData.reshape(n,1)\r\n",
        "\r\n",
        "print('Randomly Generated Train Dataset with 20 points')\r\n",
        "print('X | Y');\r\n",
        "for i in range(0,n):\r\n",
        "  print(xTrainData[i] , ' | ' , yTrainData[i]);\r\n"
      ],
      "execution_count": 111,
      "outputs": [
        {
          "output_type": "stream",
          "text": [
            "Randomly Generated Train Dataset with 20 points\n",
            "X | Y\n",
            "[5.96902604]  |  [-0.04827768]\n",
            "[4.71238898]  |  [-1.0622438]\n",
            "[0.9424778]  |  [0.91592887]\n",
            "[1.25663706]  |  [1.08233878]\n",
            "[0.62831853]  |  [0.79694135]\n",
            "[4.39822972]  |  [-0.73469006]\n",
            "[0.]  |  [0.3211207]\n",
            "[4.71238898]  |  [-1.15008236]\n",
            "[5.96902604]  |  [-0.19381518]\n",
            "[3.14159265]  |  [0.06725873]\n",
            "[2.19911486]  |  [0.55695746]\n",
            "[4.39822972]  |  [-0.7437807]\n",
            "[4.39822972]  |  [-0.96510706]\n",
            "[0.9424778]  |  [0.69706351]\n",
            "[1.57079633]  |  [1.03478477]\n",
            "[1.57079633]  |  [0.90656415]\n",
            "[5.34070751]  |  [-0.78454679]\n",
            "[2.82743339]  |  [0.23564301]\n",
            "[1.57079633]  |  [1.04523948]\n",
            "[1.57079633]  |  [1.01833597]\n"
          ],
          "name": "stdout"
        }
      ]
    },
    {
      "cell_type": "code",
      "metadata": {
        "id": "waOtapt_LW4G",
        "colab": {
          "base_uri": "https://localhost:8080/",
          "height": 0
        },
        "outputId": "1d365d64-1a20-4f8a-ed1e-951bff4adc85"
      },
      "source": [
        "# Plot of Training Dataset\r\n",
        "plt.plot(xTrainData,yTrainData,'bo');\r\n",
        "plt.xlabel('x = [0,2π]');\r\n",
        "plt.ylabel('y = sin(x) + noise');\r\n",
        "plt.title('Training dataset');\r\n",
        "plt.show()"
      ],
      "execution_count": 112,
      "outputs": [
        {
          "output_type": "display_data",
          "data": {
            "image/png": "[encoded data removed]",
            "text/plain": [
              "<Figure size 432x288 with 1 Axes>"
            ]
          },
          "metadata": {
            "tags": [],
            "needs_background": "light"
          }
        }
      ]
    },
    {
      "cell_type": "markdown",
      "metadata": {
        "id": "MdVE3TYdnSUb"
      },
      "source": [
        "# Create Testing Dataset"
      ]
    },
    {
      "cell_type": "code",
      "metadata": {
        "colab": {
          "base_uri": "https://localhost:8080/"
        },
        "id": "NT-71O6znb9P",
        "outputId": "dc69c484-5aa7-48d9-8e13-db9f8132ff6c"
      },
      "source": [
        "# Generation of Random Dataset as training => y = sin(x)\r\n",
        "\r\n",
        "xTestData=np.zeros(n);       # Independent points \r\n",
        "yTestData=np.zeros(n);       # Dependent points\r\n",
        "\r\n",
        "for i in range(0,n):\r\n",
        "    temp=randrange(0,n+1,1)*2*math.pi/n\r\n",
        "    xTestData[i] = temp\r\n",
        "    yTestData[i] = math.sin(temp)\r\n",
        "\r\n",
        "xTestData = xTestData.reshape(n,1)\r\n",
        "yTestData = yTestData.reshape(n,1)\r\n",
        "\r\n",
        "print('Randomly Generated Test Dataset with 20 points')\r\n",
        "print('X | Y');\r\n",
        "for i in range(0,n):\r\n",
        "  print(xTestData[i] , ' | ' , yTestData[i]);\r\n"
      ],
      "execution_count": 113,
      "outputs": [
        {
          "output_type": "stream",
          "text": [
            "Randomly Generated Test Dataset with 20 points\n",
            "X | Y\n",
            "[4.71238898]  |  [-1.]\n",
            "[0.31415927]  |  [0.30901699]\n",
            "[4.39822972]  |  [-0.95105652]\n",
            "[0.31415927]  |  [0.30901699]\n",
            "[2.19911486]  |  [0.80901699]\n",
            "[5.02654825]  |  [-0.95105652]\n",
            "[0.31415927]  |  [0.30901699]\n",
            "[3.14159265]  |  [1.2246468e-16]\n",
            "[3.45575192]  |  [-0.30901699]\n",
            "[1.88495559]  |  [0.95105652]\n",
            "[0.9424778]  |  [0.80901699]\n",
            "[4.08407045]  |  [-0.80901699]\n",
            "[2.51327412]  |  [0.58778525]\n",
            "[4.39822972]  |  [-0.95105652]\n",
            "[1.25663706]  |  [0.95105652]\n",
            "[0.31415927]  |  [0.30901699]\n",
            "[3.76991118]  |  [-0.58778525]\n",
            "[5.34070751]  |  [-0.80901699]\n",
            "[4.08407045]  |  [-0.80901699]\n",
            "[0.]  |  [0.]\n"
          ],
          "name": "stdout"
        }
      ]
    },
    {
      "cell_type": "markdown",
      "metadata": {
        "id": "QKjnMcpKpHnY"
      },
      "source": [
        "# Prediction"
      ]
    },
    {
      "cell_type": "markdown",
      "metadata": {
        "id": "4VHUVTY9pLxn"
      },
      "source": [
        "## Direct linear regression"
      ]
    },
    {
      "cell_type": "code",
      "metadata": {
        "colab": {
          "base_uri": "https://localhost:8080/"
        },
        "id": "B8VAub-_pRK-",
        "outputId": "1dd63bf6-2ff1-45a2-fcfa-c80d0f5efa22"
      },
      "source": [
        "# Fitting Direct Simple Linear Regression to the Training Dataset\r\n",
        "from sklearn.linear_model import LinearRegression\r\n",
        "regressor = LinearRegression()\r\n",
        "regressor.fit(xTrainData, yTrainData)"
      ],
      "execution_count": 114,
      "outputs": [
        {
          "output_type": "execute_result",
          "data": {
            "text/plain": [
              "LinearRegression(copy_X=True, fit_intercept=True, n_jobs=None, normalize=False)"
            ]
          },
          "metadata": {
            "tags": []
          },
          "execution_count": 114
        }
      ]
    },
    {
      "cell_type": "code",
      "metadata": {
        "id": "xbonGvvJyGql",
        "outputId": "7ab1a927-84e2-4c88-efb4-c239a71af794",
        "colab": {
          "base_uri": "https://localhost:8080/"
        }
      },
      "source": [
        "yPredictData = regressor.predict(xTestData)\r\n",
        "\r\n",
        "from sklearn.metrics import mean_squared_error\r\n",
        "\r\n",
        "mse = mean_squared_error(yTestData, yPredictData, squared=True)\r\n",
        "print('mse =',mse)"
      ],
      "execution_count": 115,
      "outputs": [
        {
          "output_type": "stream",
          "text": [
            "mse = 0.2984952307352399\n"
          ],
          "name": "stdout"
        }
      ]
    },
    {
      "cell_type": "code",
      "metadata": {
        "colab": {
          "base_uri": "https://localhost:8080/",
          "height": 312
        },
        "id": "4DVG6-3-qXKA",
        "outputId": "fca5ef23-ce76-47cc-f619-5d8ad20126a5"
      },
      "source": [
        "slope = regressor.coef_[0][0]\r\n",
        "intercept = regressor.intercept_[0]\r\n",
        "# print(slope)\r\n",
        "# print(intercept)\r\n",
        "\r\n",
        "\r\n",
        "plt.scatter(xTrainData,yTrainData,color = 'b' , label='TrainData');\r\n",
        "plt.scatter(xTestData,yTestData,color = 'y', label='TestData');\r\n",
        "plt.scatter(xTestData,yPredictData,color = 'r', label='PredictData');\r\n",
        "\r\n",
        "xPredictionLine = np.linspace(0,7,20)\r\n",
        "yPredictionLine = slope*x+intercept\r\n",
        "\r\n",
        "plt.plot(xPredictionLine, yPredictionLine, '-g', label='y=slope*x+itrcpt')\r\n",
        "\r\n",
        "\r\n",
        "plt.title('Training dataset vs Predicted model line');\r\n",
        "plt.xlabel('x');\r\n",
        "plt.ylabel('y');\r\n",
        "plt.legend(loc='best')\r\n",
        "plt.grid()\r\n",
        "plt.show()\r\n",
        "\r\n",
        "print('mse =',mse)"
      ],
      "execution_count": 116,
      "outputs": [
        {
          "output_type": "display_data",
          "data": {
            "image/png": "[encoded data removed]",
            "text/plain": [
              "<Figure size 432x288 with 1 Axes>"
            ]
          },
          "metadata": {
            "tags": [],
            "needs_background": "light"
          }
        },
        {
          "output_type": "stream",
          "text": [
            "mse = 0.2984952307352399\n"
          ],
          "name": "stdout"
        }
      ]
    }
  ]
}