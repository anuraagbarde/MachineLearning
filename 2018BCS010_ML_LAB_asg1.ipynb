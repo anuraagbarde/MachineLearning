{
  "nbformat": 4,
  "nbformat_minor": 0,
  "metadata": {
    "colab": {
      "name": "2018BCS010_ML_LAB_asg1",
      "provenance": [],
      "include_colab_link": true
    },
    "kernelspec": {
      "name": "python3",
      "display_name": "Python 3"
    }
  },
  "cells": [
    {
      "cell_type": "markdown",
      "metadata": {
        "id": "view-in-github",
        "colab_type": "text"
      },
      "source": [
        "<a href=\"https://colab.research.google.com/github/anuraagbarde/MachineLearning/blob/main/2018BCS010_ML_LAB_asg1.ipynb\" target=\"_parent\"><img src=\"https://colab.research.google.com/assets/colab-badge.svg\" alt=\"Open In Colab\"/></a>"
      ]
    },
    {
      "cell_type": "markdown",
      "metadata": {
        "id": "rgG_KV-mn0sG"
      },
      "source": [
        "# Import and Global Init"
      ]
    },
    {
      "cell_type": "code",
      "metadata": {
        "id": "56oHGUpdLFM0"
      },
      "source": [
        "import numpy as np;\r\n",
        "import matplotlib.pyplot as plt;\r\n",
        "import math;\r\n",
        "from random import randrange\r\n",
        "\r\n",
        "# Global variables\r\n",
        "n=20;                 # No. of points for the Dataset\r\n",
        "xTrainData=np.zeros(n);       # Independent points \r\n",
        "yTrainData=np.zeros(n);       # Dependent points"
      ],
      "execution_count": 57,
      "outputs": []
    },
    {
      "cell_type": "markdown",
      "metadata": {
        "id": "c_JBl5ysnsEq"
      },
      "source": [
        "# Create Training Dataset"
      ]
    },
    {
      "cell_type": "code",
      "metadata": {
        "id": "Ug-HszJVLPEB",
        "colab": {
          "base_uri": "https://localhost:8080/"
        },
        "outputId": "0da5c5ff-13b0-45da-bcf3-5c11f030ee7f"
      },
      "source": [
        "# Normal distribution Noise Generation\r\n",
        "noise=np.random.normal(0,0.15,n); #(mean, variance, no. of points)\r\n",
        "print(noise)"
      ],
      "execution_count": 58,
      "outputs": [
        {
          "output_type": "stream",
          "text": [
            "[-0.02655052 -0.17355446 -0.30135325  0.07103712  0.19320635  0.05682958\n",
            " -0.02824376 -0.2470064  -0.02809159 -0.18482543  0.23869137 -0.16392461\n",
            "  0.01730134 -0.08901218  0.05791699  0.08690789 -0.10232828 -0.17492905\n",
            " -0.30060461  0.11185908]\n"
          ],
          "name": "stdout"
        }
      ]
    },
    {
      "cell_type": "code",
      "metadata": {
        "id": "S_1ut9dLLRKU",
        "colab": {
          "base_uri": "https://localhost:8080/"
        },
        "outputId": "64a3a9ef-efb6-4750-db29-c65d3f359c82"
      },
      "source": [
        "# Generation of Random Dataset as training => y = sin(x) + noise\r\n",
        "for i in range(0,n):\r\n",
        "    temp=randrange(0,n+1,1)*2*math.pi/n\r\n",
        "    xTrainData[i] = temp\r\n",
        "    yTrainData[i] = math.sin(temp)+noise[i]\r\n",
        "\r\n",
        "print('Randomly Generated Train Dataset with 20 points')\r\n",
        "print('X | Y');\r\n",
        "for i in range(0,n):\r\n",
        "  print(xTrainData[i] , ' | ' , yTrainData[i]);\r\n"
      ],
      "execution_count": 59,
      "outputs": [
        {
          "output_type": "stream",
          "text": [
            "Randomly Generated Dataset with 20 points\n",
            "X | Y\n",
            "3.455751918948772  |  -0.33556751475600577\n",
            "4.084070449666731  |  -0.9825714553195423\n",
            "1.2566370614359172  |  0.6497032662619611\n",
            "1.2566370614359172  |  1.02209363481896\n",
            "4.39822971502571  |  -0.757850170440295\n",
            "6.283185307179586  |  0.05682958268477391\n",
            "6.283185307179586  |  -0.028243764667518417\n",
            "5.026548245743669  |  -1.198062916393467\n",
            "4.71238898038469  |  -1.0280915872531826\n",
            "0.3141592653589793  |  0.12419156030546724\n",
            "5.654866776461628  |  -0.34909388024691335\n",
            "4.71238898038469  |  -1.1639246071203078\n",
            "2.827433388230814  |  0.3263183380742387\n",
            "3.455751918948772  |  -0.39802917205514876\n",
            "1.2566370614359172  |  1.0089735047518256\n",
            "1.8849555921538759  |  1.0379644106330264\n",
            "0.3141592653589793  |  0.2066887132245867\n",
            "5.026548245743669  |  -1.1259855682254751\n",
            "3.455751918948772  |  -0.6096216059629576\n",
            "0.6283185307179586  |  0.6996443330072577\n"
          ],
          "name": "stdout"
        }
      ]
    },
    {
      "cell_type": "code",
      "metadata": {
        "id": "waOtapt_LW4G",
        "colab": {
          "base_uri": "https://localhost:8080/",
          "height": 295
        },
        "outputId": "660e532c-b3c3-4646-eb04-a55c27c02e71"
      },
      "source": [
        "# Plot of Training Dataset\r\n",
        "plt.plot(xTrainData,yTrainData,'bo');\r\n",
        "plt.xlabel('x = [0,2π]');\r\n",
        "plt.ylabel('y = sin(x) + noise');\r\n",
        "plt.title('Training dataset');\r\n",
        "plt.show()"
      ],
      "execution_count": 60,
      "outputs": [
        {
          "output_type": "display_data",
          "data": {
            "image/png": "[encoded data removed]",
            "text/plain": [
              "<Figure size 432x288 with 1 Axes>"
            ]
          },
          "metadata": {
            "tags": [],
            "needs_background": "light"
          }
        }
      ]
    },
    {
      "cell_type": "markdown",
      "metadata": {
        "id": "MdVE3TYdnSUb"
      },
      "source": [
        "# Create Testing Dataset"
      ]
    },
    {
      "cell_type": "code",
      "metadata": {
        "id": "NT-71O6znb9P",
        "outputId": "3707e772-3486-414d-ffa3-a9b18c8b300d",
        "colab": {
          "base_uri": "https://localhost:8080/"
        }
      },
      "source": [
        "# Generation of Random Dataset as training => y = sin(x)\r\n",
        "\r\n",
        "xTestData=np.zeros(n);       # Independent points \r\n",
        "yTestData=np.zeros(n);       # Dependent points\r\n",
        "\r\n",
        "for i in range(0,n):\r\n",
        "    temp=randrange(0,n+1,1)*2*math.pi/n\r\n",
        "    xTrainData[i] = temp\r\n",
        "    yTrainData[i] = math.sin(temp)\r\n",
        "\r\n",
        "print('Randomly Generated Test Dataset with 20 points')\r\n",
        "print('X | Y');\r\n",
        "for i in range(0,n):\r\n",
        "  print(xTrainData[i] , ' | ' , yTrainData[i]);\r\n"
      ],
      "execution_count": 61,
      "outputs": [
        {
          "output_type": "stream",
          "text": [
            "Randomly Generated Test Dataset with 20 points\n",
            "X | Y\n",
            "2.827433388230814  |  0.3090169943749475\n",
            "2.199114857512855  |  0.8090169943749475\n",
            "0.9424777960769379  |  0.8090169943749475\n",
            "4.71238898038469  |  -1.0\n",
            "2.5132741228718345  |  0.5877852522924732\n",
            "3.141592653589793  |  1.2246467991473532e-16\n",
            "4.084070449666731  |  -0.8090169943749473\n",
            "2.5132741228718345  |  0.5877852522924732\n",
            "5.969026041820607  |  -0.3090169943749476\n",
            "4.084070449666731  |  -0.8090169943749473\n",
            "0.6283185307179586  |  0.5877852522924731\n",
            "2.199114857512855  |  0.8090169943749475\n",
            "0.6283185307179586  |  0.5877852522924731\n",
            "5.026548245743669  |  -0.9510565162951536\n",
            "0.9424777960769379  |  0.8090169943749475\n",
            "1.5707963267948966  |  1.0\n",
            "3.455751918948772  |  -0.3090169943749469\n",
            "2.199114857512855  |  0.8090169943749475\n",
            "2.5132741228718345  |  0.5877852522924732\n",
            "2.5132741228718345  |  0.5877852522924732\n"
          ],
          "name": "stdout"
        }
      ]
    }
  ]
}